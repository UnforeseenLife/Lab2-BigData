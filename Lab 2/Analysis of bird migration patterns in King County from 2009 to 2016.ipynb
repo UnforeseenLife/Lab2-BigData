{
 "cells": [
  {
   "cell_type": "markdown",
   "metadata": {},
   "source": [
    "Analysis of bird migration patters in King County during 2009 to 2016 <br>\n",
    "David Kahn <Br>\n",
    "10/7/2016 <Br>"
   ]
  },
  {
   "cell_type": "markdown",
   "metadata": {},
   "source": [
    "In this lab, we compare real-life bird observations across 6 species of birds in King County from January 2009 to present. The interpreted Data set was given by 6 csv files, each representing the observations in King County of a particular species. The following is an analysis that describes the patterns of occurrence in King County for each species (by season, month, or year, and by number of birds sighted at one time). It is also important to note that while coding this analysis, I did not have much previous knowledge of birds and their migration patterns.\n",
    "<br>\n",
    "<br>"
   ]
  },
  {
   "cell_type": "code",
   "execution_count": 150,
   "metadata": {
    "collapsed": false
   },
   "outputs": [],
   "source": [
    "from datetime import datetime\n",
    "import matplotlib.pyplot as plt\n",
    "% matplotlib inline\n",
    "\n",
    "\n",
    "SOfile = open(\"SnowyOwl.csv\", \"r\", errors=\"ignore\");\n",
    "AHfile = open(\"AnnasHummingbird.csv\", \"r\", errors=\"ignore\");\n",
    "BSfile = open(\"BlackSwift.csv\", \"r\", errors=\"ignore\");\n",
    "Bfile = open(\"Brambling.csv\", \"r\", errors=\"ignore\");\n",
    "HDfile = open(\"HarlequinDuck.csv\", \"r\", errors=\"ignore\");\n",
    "LBfile = open(\"LazuliBunting.csv\", \"r\", errors=\"ignore\");\n",
    "\n",
    "\n",
    "\n",
    "SOlist = [];\n",
    "AHlist = [];\n",
    "BSlist = [];\n",
    "Blist = [];\n",
    "HDlist = [];\n",
    "LBlist = [];\n",
    "\n",
    "SOdates = [];\n",
    "AHdates = [];\n",
    "BSdates = [];\n",
    "Bdates = [];\n",
    "HDdates = [];\n",
    "LBdates = [];\n",
    "\n",
    "SOnum = [];\n",
    "AHnum = [];\n",
    "BSnum = [];\n",
    "Bnum = [];\n",
    "HDnum = [];\n",
    "LBnum = [];\n",
    "\n",
    "\n",
    "\n",
    "for a in SOfile:\n",
    "    SOlist.append(a);\n",
    "del SOlist[0];\n",
    "\n",
    "for b in AHfile:\n",
    "    AHlist.append(b);\n",
    "del AHlist[0];\n",
    "\n",
    "for c in BSfile:\n",
    "    BSlist.append(c);\n",
    "del BSlist[0];\n",
    "\n",
    "for d in Bfile:\n",
    "    Blist.append(d);\n",
    "del Blist[0];\n",
    "\n",
    "for e in HDfile:\n",
    "    HDlist.append(e);\n",
    "del HDlist[0];\n",
    "\n",
    "for f in LBfile:\n",
    "    LBlist.append(f);\n",
    "del LBlist[0];\n",
    "\n",
    "\n",
    "\n",
    "for g in range(len(SOlist)):\n",
    "    SOlist[g] = SOlist[g].split(\",\");\n",
    "\n",
    "for h in range(len(AHlist)):\n",
    "    AHlist[h] = AHlist[h].split(\",\");\n",
    "\n",
    "for i in range(len(BSlist)):\n",
    "    BSlist[i] = BSlist[i].split(\",\");\n",
    "\n",
    "for j in range(len(Blist)):\n",
    "    Blist[j] = Blist[j].split(\",\");\n",
    "\n",
    "for k in range(len(HDlist)):\n",
    "    HDlist[k] = HDlist[k].split(\",\");\n",
    "\n",
    "for l in range(len(LBlist)):\n",
    "    LBlist[l] = LBlist[l].split(\",\");\n",
    "    \n",
    "    \n",
    "    \n",
    "for SO in range(len(SOlist)):\n",
    "    SOdates.append(SOlist[SO][22]);\n",
    "\n",
    "for AH in range(len(AHlist)):\n",
    "    AHdates.append(AHlist[AH][22]);  \n",
    "\n",
    "for BS in range(len(BSlist)):\n",
    "    BSdates.append(BSlist[BS][22]); \n",
    "    \n",
    "for B in range(len(Blist)):\n",
    "    Bdates.append(Blist[B][22]);\n",
    "    \n",
    "for HD in range(len(HDlist)):\n",
    "    HDdates.append(HDlist[HD][22]);\n",
    "    \n",
    "for LB in range(len(LBlist)):\n",
    "    LBdates.append(LBlist[LB][22]);\n",
    "\n",
    "\n",
    "    \n",
    "for SO in range(len(SOlist)):\n",
    "    if SOlist[SO][7] == \"x\" or SOlist[SO][7] == \"X\":\n",
    "        SOnum.append(int(0));\n",
    "    else:\n",
    "        SOnum.append(int(SOlist[SO][7]));\n",
    "        \n",
    "for AH in range(len(AHlist)):\n",
    "    if AHlist[AH][7] == \"x\" or AHlist[AH][7] == \"X\":\n",
    "        AHnum.append(int(0));\n",
    "    else:\n",
    "        AHnum.append(int(AHlist[AH][7]));\n",
    "\n",
    "for BS in range(len(BSlist)):\n",
    "    if BSlist[BS][7] == \"x\" or BSlist[BS][7] == \"X\":\n",
    "        BSnum.append(int(0));\n",
    "    else:\n",
    "        BSnum.append(int(BSlist[BS][7]));\n",
    "        \n",
    "for B in range(len(Blist)):\n",
    "    if Blist[B][7] == \"x\" or Blist[B][7] == \"X\":\n",
    "        Bnum.append(int(0));\n",
    "    else:\n",
    "        Bnum.append(int(Blist[B][7]));\n",
    "        \n",
    "for HD in range(len(HDlist)):\n",
    "    if HDlist[HD][7] == \"x\" or HDlist[HD][7] == \"X\":\n",
    "        HDnum.append(int(0));\n",
    "    else:\n",
    "        HDnum.append(int(HDlist[HD][7]));\n",
    "        \n",
    "for LB in range(len(LBlist)):\n",
    "    if LBlist[LB][7] == \"x\" or LBlist[LB][7] == \"X\":\n",
    "        LBnum.append(int(0));\n",
    "    else:\n",
    "        LBnum.append(int(LBlist[LB][7]));\n",
    "    \n",
    "    \n",
    "\n",
    "for g in range(len(SOdates)):\n",
    "    SOdates[g] = SOdates[g].split(\"/\");\n",
    "\n",
    "for h in range(len(AHdates)):\n",
    "    AHdates[h] = AHdates[h].split(\"/\");\n",
    "\n",
    "for i in range(len(BSdates)):\n",
    "    BSdates[i] = BSdates[i].split(\"/\");\n",
    "\n",
    "for j in range(len(Bdates)):\n",
    "    Bdates[j] = Bdates[j].split(\"/\");\n",
    "\n",
    "for k in range(len(HDdates)):\n",
    "    HDdates[k] = HDdates[k].split(\"/\");\n",
    "\n",
    "for l in range(len(LBdates)):\n",
    "    LBdates[l] = LBdates[l].split(\"/\");\n",
    "        \n",
    "    \n",
    "    \n",
    "#following code copied from http://stackoverflow.com/questions/4039879/best-way-to-find-the-months-between-two-dates\n",
    "#written by user John La Rooy\n",
    "def diff_month(d1, d2):\n",
    "    return ((d1.year - d2.year)*12 + d1.month - d2.month)*(-1);\n",
    "\n",
    "assert diff_month(datetime(2010,10,1), datetime(2010,9,1)) == -1\n",
    "assert diff_month(datetime(2010,10,1), datetime(2009,10,1)) == -12\n",
    "assert diff_month(datetime(2010,10,1), datetime(2009,11,1)) == -11\n",
    "assert diff_month(datetime(2010,10,1), datetime(2009,8,1)) == -14\n",
    "#end of copied code\n",
    "\n",
    "def listmdiff(data, num):\n",
    "    stdatadates = [0] * len(data);\n",
    "    mtemp = 0;\n",
    "    dtemp = 0;\n",
    "    ytemp = 0;\n",
    "    placetemp = 1;\n",
    "    vartemp = 0;\n",
    "    retlistnum = [];\n",
    "    retlistval = [];\n",
    "    \n",
    "    for calc in range(len(data)):\n",
    "        if mtemp == 0 and data[calc][0] == data[calc][0]:\n",
    "            mtemp = int(data[calc][0]);\n",
    "        if dtemp == 0 and data[calc][0] == data[calc][0]:\n",
    "            dtemp = int(data[calc][1]);\n",
    "        if ytemp == 0 and data[calc][2] == data[calc][2]:\n",
    "            ytemp = int(data[calc][2]);\n",
    "        stdatadates[calc] = 1 + diff_month(datetime(ytemp,mtemp,dtemp), datetime(int(data[calc][2]), int(data[calc][0]), int(data[calc][1])));\n",
    "    for add in range(len(stdatadates)):\n",
    "        if stdatadates[add] == placetemp:\n",
    "            vartemp = num[add] + vartemp;\n",
    "        else:\n",
    "            retlistnum.append(vartemp);\n",
    "            retlistval.append(placetemp);\n",
    "            placetemp += 1;\n",
    "            vartemp = 0;\n",
    "    return(stdatadates, retlistnum, retlistval);\n",
    "    \n",
    "stSO, retnumSO, retvalSO = listmdiff(SOdates, SOnum);\n",
    "stAH, retnumAH, retvalAH = listmdiff(AHdates, AHnum);\n",
    "stBS, retnumBS, retvalBS = listmdiff(BSdates, BSnum);\n",
    "stB, retnumB, retvalB = listmdiff(Bdates, Bnum);\n",
    "stHD, retnumHD, retvalHD = listmdiff(HDdates, HDnum);\n",
    "stLB, retnumLB, retvalLB = listmdiff(LBdates, LBnum);"
   ]
  },
  {
   "cell_type": "markdown",
   "metadata": {},
   "source": [
    "Chart 1: Snowy Owl"
   ]
  },
  {
   "cell_type": "code",
   "execution_count": 151,
   "metadata": {
    "collapsed": false
   },
   "outputs": [
    {
     "data": {
      "image/png": "[encoded data removed]",
      "text/plain": [
       "<matplotlib.figure.Figure at 0x1ca985f9ef0>"
      ]
     },
     "metadata": {},
     "output_type": "display_data"
    }
   ],
   "source": [
    "plt.figure(figsize=(15,5));\n",
    "plt.xlabel(\"Month number\")\n",
    "plt.ylabel(\"Number of birds seen\")\n",
    "plt.bar(retvalSO, retnumSO);"
   ]
  },
  {
   "cell_type": "markdown",
   "metadata": {},
   "source": [
    "As it can be seen in the chart, the Snowy Owl has only been appearing in the king county area in the recent years. The first sitings were only a few in the first few months of the year February - March. approximatley a year later, the number of Snowy Owls shot up to nearly 60 owls. This sudden inrush as opposed to a steady increase, could be caused by migration patters that allowed the Snowy Owls to reproduce in other areas and then come to King County in larger numbers.\n",
    "<br>\n",
    "<br>\n",
    "<br>\n",
    "<br>"
   ]
  },
  {
   "cell_type": "markdown",
   "metadata": {},
   "source": [
    "Chart 2: Annas Hummingbird"
   ]
  },
  {
   "cell_type": "code",
   "execution_count": 152,
   "metadata": {
    "collapsed": false
   },
   "outputs": [
    {
     "data": {
      "image/png": "[encoded data removed]",
      "text/plain": [
       "<matplotlib.figure.Figure at 0x1ca94e67780>"
      ]
     },
     "metadata": {},
     "output_type": "display_data"
    }
   ],
   "source": [
    "plt.figure(figsize=(15,5));\n",
    "plt.xlabel(\"Month number\")\n",
    "plt.ylabel(\"Number of birds seen\")\n",
    "plt.bar(retvalAH, retnumAH);"
   ]
  },
  {
   "cell_type": "markdown",
   "metadata": {},
   "source": [
    "As it can be seen in this chart, the Annas Hummingbird tends to stay in King County for large periods of time, and migrate to other areas for a somewhat short period of time. It also appears that the King County area has been a hotspot for Annas Hummingbird due to the fact there has been a very steady increase, from ~400 to ~2400, in the number of birds over the course of about 7 and a half years. However, it can also be seen that there is a pattern to their appearance. About every other 8 months or so, there is a larger number of Annas Humming birds than the following 8 months. This can be caused by any number of factors, including weather, food, pollution and so on.\n",
    "<br>\n",
    "<br>\n",
    "<br>\n",
    "<br>"
   ]
  },
  {
   "cell_type": "markdown",
   "metadata": {},
   "source": [
    "Chart 3: Black Swift"
   ]
  },
  {
   "cell_type": "code",
   "execution_count": 158,
   "metadata": {
    "collapsed": false
   },
   "outputs": [
    {
     "data": {
      "image/png": "[encoded data removed]",
      "text/plain": [
       "<matplotlib.figure.Figure at 0x1ca982e6eb8>"
      ]
     },
     "metadata": {},
     "output_type": "display_data"
    }
   ],
   "source": [
    "plt.figure(figsize=(15,5));\n",
    "plt.xlabel(\"Month number\")\n",
    "plt.ylabel(\"Number of birds seen\")\n",
    "plt.bar(retvalBS, retnumBS);"
   ]
  },
  {
   "cell_type": "markdown",
   "metadata": {},
   "source": [
    "It can be seen in this chart that the Black Swift appears in the king county area for only a select few months of the year. These few months appear to be the first months of the year which happen to be the colder months (January, February, and so on). over the last 7 and a half years, the number of Black Swift birds appearing in the King County area has not had a very defined pattern. It seems that in the months that the Black Swift are in the area, there is not direct pattern that occurs to how many there are. With this being said, it does seem that there is an overall increase in the number of Black Swift sightings; there is simply just not very much of a pattern.\n",
    "<br>\n",
    "<br>\n",
    "<br>\n",
    "<br>"
   ]
  },
  {
   "cell_type": "markdown",
   "metadata": {},
   "source": [
    "Chart 4: Brambling"
   ]
  },
  {
   "cell_type": "code",
   "execution_count": 154,
   "metadata": {
    "collapsed": false
   },
   "outputs": [
    {
     "data": {
      "image/png": "[encoded data removed]",
      "text/plain": [
       "<matplotlib.figure.Figure at 0x1ca94ff6828>"
      ]
     },
     "metadata": {},
     "output_type": "display_data"
    }
   ],
   "source": [
    "plt.xlabel(\"Month number\")\n",
    "plt.ylabel(\"Number of birds seen\")\n",
    "plt.bar(retvalB, retnumB);"
   ]
  },
  {
   "cell_type": "markdown",
   "metadata": {},
   "source": [
    "This chart of the migration patterns of the Brambling in the King County area shows that there have not been any Brambling sightings in King County until recently. During the first 3 months of the year, there appears to be only a few Bramblings in the area; about 30 to 50 over a 3-month span. There is not enough data to create a reason for why the sudden spotting of the Brambling in the King County area. It appears that there may be more sightings of the brambling in the next years to come, based off of how other bird species have appeared in the area. There is typically a small increase, that increases steadily every year.\n",
    "<br>\n",
    "<br>\n",
    "<br>\n",
    "<br>"
   ]
  },
  {
   "cell_type": "markdown",
   "metadata": {},
   "source": [
    "Chart 5: Harlequin Duck"
   ]
  },
  {
   "cell_type": "code",
   "execution_count": 155,
   "metadata": {
    "collapsed": false
   },
   "outputs": [
    {
     "data": {
      "image/png": "[encoded data removed]",
      "text/plain": [
       "<matplotlib.figure.Figure at 0x1ca94311fd0>"
      ]
     },
     "metadata": {},
     "output_type": "display_data"
    }
   ],
   "source": [
    "plt.figure(figsize=(15,5));\n",
    "plt.xlabel(\"Month number\")\n",
    "plt.ylabel(\"Number of birds seen\")\n",
    "plt.bar(retvalHD, retnumHD);"
   ]
  },
  {
   "cell_type": "markdown",
   "metadata": {},
   "source": [
    "This chart of the migration patterns of the Harlequin Duck show that, initially, the Harlequin Duck was not very prevalent in the King County area, and only appeared during the first few months of the year. As the years went by, the Harlequin Duck began to appear more frequently in larger numbers. During the first 5 months or so, the Duck was only spotted a few times (approximately 25 for the first month then approximately 10 for the next month). The following year saw a sudden increase in the number of Harlequin Duck spottings (approximately 90). this number did not increase very much for the next 2 year, but the amount of time that the birds were spotted for throughout the year did. \n",
    "<br>\n",
    "<br>\n",
    "<br>\n",
    "<br>"
   ]
  },
  {
   "cell_type": "markdown",
   "metadata": {},
   "source": [
    "Chart 6: Lazuli Bunting"
   ]
  },
  {
   "cell_type": "code",
   "execution_count": 156,
   "metadata": {
    "collapsed": false
   },
   "outputs": [
    {
     "data": {
      "image/png": "[encoded data removed]",
      "text/plain": [
       "<matplotlib.figure.Figure at 0x1ca94301198>"
      ]
     },
     "metadata": {},
     "output_type": "display_data"
    }
   ],
   "source": [
    "plt.figure(figsize=(15,5));\n",
    "plt.xlabel(\"Month number\")\n",
    "plt.ylabel(\"Number of birds seen\")\n",
    "plt.bar(retvalLB, retnumLB);"
   ]
  },
  {
   "cell_type": "markdown",
   "metadata": {},
   "source": [
    "This chart of the number of spottings of the Lazuli Bunting in the King County area shows that the Lazuli Bunting does not have a very high prevalence in the area. ~7.5 years ago the Lazuli Bunting had a large number of spottings, ~95. The months prior to, and following this large amount did not see as many spottings, ~15. The following year however, shows a very sudden drop in the number of Lazuli Buntings. From there, the number of spottings increased with each year to a sudden increase to ~230 Lazuli Buntings.\n",
    "<br>\n",
    "<br>\n",
    "<br>\n",
    "<br>"
   ]
  }
 ],
 "metadata": {
  "anaconda-cloud": {},
  "kernelspec": {
   "display_name": "Python [Root]",
   "language": "python",
   "name": "Python [Root]"
  },
  "language_info": {
   "codemirror_mode": {
    "name": "ipython",
    "version": 3
   },
   "file_extension": ".py",
   "mimetype": "text/x-python",
   "name": "python",
   "nbconvert_exporter": "python",
   "pygments_lexer": "ipython3",
   "version": "3.5.2"
  }
 },
 "nbformat": 4,
 "nbformat_minor": 0
}
